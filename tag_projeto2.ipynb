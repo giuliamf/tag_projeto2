{
  "nbformat": 4,
  "nbformat_minor": 0,
  "metadata": {
    "colab": {
      "provenance": [],
      "mount_file_id": "1YDZRcsuhFASbLpLniLGCx4TvZPz7m1YK",
      "authorship_tag": "ABX9TyPqAQTa7AHbrjlrdNLXCLr/",
      "include_colab_link": true
    },
    "kernelspec": {
      "name": "python3",
      "display_name": "Python 3"
    },
    "language_info": {
      "name": "python"
    }
  },
  "cells": [
    {
      "cell_type": "markdown",
      "metadata": {
        "id": "view-in-github",
        "colab_type": "text"
      },
      "source": [
        "<a href=\"https://colab.research.google.com/github/giuliamf/tag_projeto2/blob/main/tag_projeto2.ipynb\" target=\"_parent\"><img src=\"https://colab.research.google.com/assets/colab-badge.svg\" alt=\"Open In Colab\"/></a>"
      ]
    },
    {
      "cell_type": "code",
      "source": [
        "!pip install pandas networkx matplotlib ace_tools"
      ],
      "metadata": {
        "colab": {
          "base_uri": "https://localhost:8080/"
        },
        "id": "FchfXtsgvTwT",
        "outputId": "e19307c4-cb85-4684-835c-f7f5832335a1"
      },
      "execution_count": 4,
      "outputs": [
        {
          "output_type": "stream",
          "name": "stdout",
          "text": [
            "Requirement already satisfied: pandas in /usr/local/lib/python3.11/dist-packages (2.2.2)\n",
            "Requirement already satisfied: networkx in /usr/local/lib/python3.11/dist-packages (3.5)\n",
            "Requirement already satisfied: matplotlib in /usr/local/lib/python3.11/dist-packages (3.10.0)\n",
            "Requirement already satisfied: ace_tools in /usr/local/lib/python3.11/dist-packages (0.0)\n",
            "Requirement already satisfied: numpy>=1.23.2 in /usr/local/lib/python3.11/dist-packages (from pandas) (2.0.2)\n",
            "Requirement already satisfied: python-dateutil>=2.8.2 in /usr/local/lib/python3.11/dist-packages (from pandas) (2.9.0.post0)\n",
            "Requirement already satisfied: pytz>=2020.1 in /usr/local/lib/python3.11/dist-packages (from pandas) (2025.2)\n",
            "Requirement already satisfied: tzdata>=2022.7 in /usr/local/lib/python3.11/dist-packages (from pandas) (2025.2)\n",
            "Requirement already satisfied: contourpy>=1.0.1 in /usr/local/lib/python3.11/dist-packages (from matplotlib) (1.3.2)\n",
            "Requirement already satisfied: cycler>=0.10 in /usr/local/lib/python3.11/dist-packages (from matplotlib) (0.12.1)\n",
            "Requirement already satisfied: fonttools>=4.22.0 in /usr/local/lib/python3.11/dist-packages (from matplotlib) (4.58.4)\n",
            "Requirement already satisfied: kiwisolver>=1.3.1 in /usr/local/lib/python3.11/dist-packages (from matplotlib) (1.4.8)\n",
            "Requirement already satisfied: packaging>=20.0 in /usr/local/lib/python3.11/dist-packages (from matplotlib) (24.2)\n",
            "Requirement already satisfied: pillow>=8 in /usr/local/lib/python3.11/dist-packages (from matplotlib) (11.2.1)\n",
            "Requirement already satisfied: pyparsing>=2.3.1 in /usr/local/lib/python3.11/dist-packages (from matplotlib) (3.2.3)\n",
            "Requirement already satisfied: six>=1.5 in /usr/local/lib/python3.11/dist-packages (from python-dateutil>=2.8.2->pandas) (1.17.0)\n"
          ]
        }
      ]
    },
    {
      "cell_type": "code",
      "source": [
        "import sys"
      ],
      "metadata": {
        "id": "1Kvfu4g4GBAz"
      },
      "execution_count": 8,
      "outputs": []
    },
    {
      "cell_type": "code",
      "source": [
        "from google.colab import drive\n",
        "drive.mount('/content/drive')\n",
        "file_path = '/content/drive/My Drive/tag'"
      ],
      "metadata": {
        "colab": {
          "base_uri": "https://localhost:8080/"
        },
        "id": "Y4cZjthKd_EL",
        "outputId": "96cd9554-672e-4e10-a97c-66bfc67be64a"
      },
      "execution_count": 5,
      "outputs": [
        {
          "output_type": "stream",
          "name": "stdout",
          "text": [
            "Drive already mounted at /content/drive; to attempt to forcibly remount, call drive.mount(\"/content/drive\", force_remount=True).\n"
          ]
        }
      ]
    },
    {
      "cell_type": "markdown",
      "source": [
        "Função auxiliar para visualizar o grafo durante o desenvolvimento"
      ],
      "metadata": {
        "id": "MDgixRbfw14L"
      }
    },
    {
      "cell_type": "code",
      "source": [
        "from visualizar_grafo import visualizar_grafo_bipartido"
      ],
      "metadata": {
        "id": "yYlHotEAw0Wq",
        "colab": {
          "base_uri": "https://localhost:8080/",
          "height": 310
        },
        "outputId": "bc367995-ae46-4026-a958-aed0779521a1"
      },
      "execution_count": 6,
      "outputs": [
        {
          "output_type": "error",
          "ename": "ModuleNotFoundError",
          "evalue": "No module named 'visualizar_grafo'",
          "traceback": [
            "\u001b[0;31m---------------------------------------------------------------------------\u001b[0m",
            "\u001b[0;31mModuleNotFoundError\u001b[0m                       Traceback (most recent call last)",
            "\u001b[0;32m/tmp/ipython-input-6-3727872547.py\u001b[0m in \u001b[0;36m<cell line: 0>\u001b[0;34m()\u001b[0m\n\u001b[0;32m----> 1\u001b[0;31m \u001b[0;32mfrom\u001b[0m \u001b[0mvisualizar_grafo\u001b[0m \u001b[0;32mimport\u001b[0m \u001b[0mvisualizar_grafo_bipartido\u001b[0m\u001b[0;34m\u001b[0m\u001b[0;34m\u001b[0m\u001b[0m\n\u001b[0m",
            "\u001b[0;31mModuleNotFoundError\u001b[0m: No module named 'visualizar_grafo'",
            "",
            "\u001b[0;31m---------------------------------------------------------------------------\u001b[0;32m\nNOTE: If your import is failing due to a missing package, you can\nmanually install dependencies using either !pip or !apt.\n\nTo view examples of installing some common dependencies, click the\n\"Open Examples\" button below.\n\u001b[0;31m---------------------------------------------------------------------------\u001b[0m\n"
          ],
          "errorDetails": {
            "actions": [
              {
                "action": "open_url",
                "actionText": "Open Examples",
                "url": "/notebooks/snippets/importing_libraries.ipynb"
              }
            ]
          }
        }
      ]
    },
    {
      "cell_type": "markdown",
      "source": [
        "Trata os dados do arquivo dados.txt"
      ],
      "metadata": {
        "id": "jTV0qG5ljlka"
      }
    },
    {
      "cell_type": "code",
      "execution_count": null,
      "metadata": {
        "id": "UOutaZ7efIOy"
      },
      "outputs": [],
      "source": [
        "import pandas as pd\n",
        "import re"
      ]
    },
    {
      "cell_type": "code",
      "source": [
        "with open('dados.txt', 'r', encoding='utf-8') as file:\n",
        "  linhas = file.readlines()\n",
        "\n",
        "linhas = [linha.strip() for linha in linhas if linha.strip()]\n",
        "\n",
        "split_id = next(i for i, l in enumerate(linhas) if l.startswith('//alunos'))\n",
        "\n",
        "projeto_linhas = linhas[2:split_id]\n",
        "estudante_linhas = linhas[split_id+2:]"
      ],
      "metadata": {
        "id": "Bokc1FV7juVn"
      },
      "execution_count": null,
      "outputs": []
    },
    {
      "cell_type": "markdown",
      "source": [
        "Trata os dados dos projetos em um dataframe"
      ],
      "metadata": {
        "id": "LA2tUvjWoRDE"
      }
    },
    {
      "cell_type": "code",
      "source": [
        "projetos = []\n",
        "for linha in projeto_linhas:\n",
        "  match = re.match(r'\\((P\\d+),\\s*(\\d+),\\s*(\\d+)\\)', linha)\n",
        "  if match:\n",
        "    codigo, vagas, nota_min = match.groups()\n",
        "    projetos.append({'projeto': codigo, 'vagas': int(vagas), 'nota_min': int(nota_min)})\n",
        "\n",
        "df_projetos = pd.DataFrame(projetos)"
      ],
      "metadata": {
        "id": "UaGTujwHnOKh"
      },
      "execution_count": null,
      "outputs": []
    },
    {
      "cell_type": "code",
      "source": [
        "df_projetos.head()"
      ],
      "metadata": {
        "id": "QwhmxZt6oFqX"
      },
      "execution_count": null,
      "outputs": []
    },
    {
      "cell_type": "markdown",
      "source": [
        "Trata os dados dos estudantes em um dataframe"
      ],
      "metadata": {
        "id": "1lLlClNAoWYe"
      }
    },
    {
      "cell_type": "code",
      "source": [
        "alunos = []\n",
        "for linha in estudante_linhas:\n",
        "  match = re.match(r'\\((A\\d+)\\):\\((P\\d+(?:,\\s*P\\d+){0,2})\\)\\s*\\((\\d+)\\)', linha)\n",
        "  if match:\n",
        "    codigo, preferencias, nota = match.groups()\n",
        "    prefs = [p.strip() for p in preferencias.split(',')]\n",
        "    alunos.append({\n",
        "        'aluno': codigo,\n",
        "        'pref_1': prefs[0] if len(prefs) > 0 else None,\n",
        "        'pref_2': prefs[1] if len(prefs) > 1 else None,\n",
        "        'pref_3': prefs[2] if len(prefs) > 2 else None,\n",
        "        'nota': int(nota)\n",
        "        })\n",
        "\n",
        "df_alunos = pd.DataFrame(alunos)"
      ],
      "metadata": {
        "id": "_AgUo1IjoKQI"
      },
      "execution_count": null,
      "outputs": []
    },
    {
      "cell_type": "code",
      "source": [
        "df_alunos.head()"
      ],
      "metadata": {
        "id": "IkCv2PgspVmK"
      },
      "execution_count": null,
      "outputs": []
    },
    {
      "cell_type": "markdown",
      "source": [
        "Começando a criar um grafo bipartido com os dados tratados acima"
      ],
      "metadata": {
        "id": "f6hglhoVpovi"
      }
    },
    {
      "cell_type": "code",
      "source": [
        "import networkx as nx\n",
        "import matplotlib.pyplot as plt"
      ],
      "metadata": {
        "id": "Vyj8RaYzpsK1"
      },
      "execution_count": null,
      "outputs": []
    },
    {
      "cell_type": "markdown",
      "source": [
        "cria o grafo"
      ],
      "metadata": {
        "id": "I_Do7YaOrN6n"
      }
    },
    {
      "cell_type": "code",
      "source": [
        "grafo = nx.Graph()"
      ],
      "metadata": {
        "id": "HNF-a_NOrND9"
      },
      "execution_count": null,
      "outputs": []
    },
    {
      "cell_type": "markdown",
      "source": [
        "- adiciona os alunos - bipartido 1\n",
        "- faz o dicionario de requisitos para o projeto\n"
      ],
      "metadata": {
        "id": "MffakRpQp6g9"
      }
    },
    {
      "cell_type": "code",
      "source": [
        "grafo.add_nodes_from(df_alunos['aluno'], bipartite=0)\n",
        "\n",
        "requisitos = df_projetos.set_index('projeto').to_dict('index')"
      ],
      "metadata": {
        "id": "48jRuA6_pyss"
      },
      "execution_count": null,
      "outputs": []
    },
    {
      "cell_type": "markdown",
      "source": [
        "- adiciona as vagas do projeto - bipartido 2"
      ],
      "metadata": {
        "id": "Fxbwdi4trH0F"
      }
    },
    {
      "cell_type": "code",
      "source": [
        "for _, row in df_projetos.iterrows():\n",
        "  for i in range(row['vagas']):\n",
        "    vaga = f'{row[\"projeto\"]}-{i+1}'\n",
        "    grafo.add_node(vaga, bipartite=1)"
      ],
      "metadata": {
        "id": "hKcfRqWHq0eZ"
      },
      "execution_count": null,
      "outputs": []
    },
    {
      "cell_type": "markdown",
      "source": [
        "- cria as arestas: aluno -> vaga do projeto se a nota for maior ou igual o requisito"
      ],
      "metadata": {
        "id": "4DN2sozLr8xj"
      }
    },
    {
      "cell_type": "code",
      "source": [
        "for _, aluno in df_alunos.iterrows():\n",
        "  aluno_id = aluno['aluno']\n",
        "  nota = aluno['nota']\n",
        "  for pref in ['pref_1', 'pref_2', 'pref_3']:\n",
        "    projeto = aluno[pref]\n",
        "    if projeto in requisitos and nota >= requisitos[projeto]['nota_min']:\n",
        "      for i in range(requisitos[projeto]['vagas']):\n",
        "        vaga = f'{projeto}-{i+1}'\n",
        "        grafo.add_edge(aluno_id, vaga)"
      ],
      "metadata": {
        "id": "I1eOhAL-r8PK"
      },
      "execution_count": null,
      "outputs": []
    },
    {
      "cell_type": "markdown",
      "source": [
        "informações do grafo até aqui"
      ],
      "metadata": {
        "id": "eYjG1NRIw9KC"
      }
    },
    {
      "cell_type": "code",
      "source": [
        "n_alunos = len([n for n, d in grafo.nodes(data=True) if d.get(\"bipartite\") == 0])\n",
        "n_vagas = len([n for n, d in grafo.nodes(data=True) if d.get(\"bipartite\") == 1])\n",
        "n_arestas = grafo.number_of_edges()\n",
        "\n",
        "df_stats = pd.DataFrame({\n",
        "    \"Tipo\": [\"Alunos\", \"Vagas\", \"Arestas\"],\n",
        "    \"Quantidade\": [n_alunos, n_vagas, n_arestas]\n",
        "})\n",
        "\n",
        "df_stats"
      ],
      "metadata": {
        "id": "32JCiXbGtNx1"
      },
      "execution_count": null,
      "outputs": []
    },
    {
      "cell_type": "markdown",
      "source": [],
      "metadata": {
        "id": "2JczOhqCwHD-"
      }
    },
    {
      "cell_type": "code",
      "source": [
        "visualizar_grafo_bipartido(grafo, max_nos=20)"
      ],
      "metadata": {
        "id": "ZFw0JRI1xwyc"
      },
      "execution_count": null,
      "outputs": []
    },
    {
      "cell_type": "markdown",
      "source": [
        "Emparelhamento estável - aluno: projeto"
      ],
      "metadata": {
        "id": "QvyPHnhlz8pT"
      }
    },
    {
      "cell_type": "code",
      "source": [
        "pref_alunos = []\n",
        "\n",
        "for _, aluno in df_alunos.iterrows():\n",
        "  aluno_id = aluno['aluno']\n",
        "  aluno_nota = aluno['nota']\n",
        "\n",
        "  for pref in ['pref_1', 'pref_2', 'pref_3']:\n",
        "    projeto = aluno[pref]\n",
        "    if projeto in requisitos:\n",
        "      req = requisitos[projeto]\n",
        "      if aluno_nota >= req['nota_min']:\n",
        "        for i in range(req['vagas']):\n",
        "          pref_alunos.append({\n",
        "              'aluno': aluno_id,\n",
        "              'projeto': projeto,\n",
        "              'vaga': f'{projeto}-{i+1}',\n",
        "              'ordem': int(pref[-1])\n",
        "          })\n",
        "\n",
        "df_pref_alunos = pd.DataFrame(pref_alunos)"
      ],
      "metadata": {
        "id": "4Sln1Oboz-Bd"
      },
      "execution_count": null,
      "outputs": []
    },
    {
      "cell_type": "code",
      "source": [
        "df_pref_alunos.head()"
      ],
      "metadata": {
        "id": "5rbM6xXij-RW"
      },
      "execution_count": null,
      "outputs": []
    },
    {
      "cell_type": "markdown",
      "source": [
        "projeto: notas"
      ],
      "metadata": {
        "id": "tr6P1F56s0ni"
      }
    },
    {
      "cell_type": "code",
      "source": [
        "pref_vagas = []\n",
        "\n",
        "for _, projeto in df_projetos.iterrows():\n",
        "    for i in range(projeto['vagas']):\n",
        "        vaga_id = f'{projeto[\"projeto\"]}-{i+1}'\n",
        "\n",
        "        alunos_elegiveis = df_alunos[\n",
        "            df_alunos[['pref_1', 'pref_2', 'pref_3']].apply(lambda row: projeto['projeto'] in row.values, axis=1) &\n",
        "            (df_alunos['nota'] >= projeto['nota_min'])\n",
        "        ].sort_values(by='nota', ascending=False)['aluno'].tolist()\n",
        "\n",
        "        for i, aluno in enumerate(alunos_elegiveis, 1):\n",
        "            pref_vagas.append({\n",
        "                'vaga': vaga_id,\n",
        "                'aluno': aluno,\n",
        "                'ordem_preferencia': i  # 1 para o aluno com maior nota, 2 para o segundo, etc.\n",
        "            })\n",
        "\n",
        "df_pref_vagas = pd.DataFrame(pref_vagas)"
      ],
      "metadata": {
        "id": "KwKpN8VBs2AL"
      },
      "execution_count": null,
      "outputs": []
    },
    {
      "cell_type": "code",
      "source": [
        "df_pref_vagas.head()"
      ],
      "metadata": {
        "id": "AuazopfBuor3"
      },
      "execution_count": null,
      "outputs": []
    },
    {
      "cell_type": "code",
      "source": [],
      "metadata": {
        "id": "I6f2Wj7luuyx"
      },
      "execution_count": null,
      "outputs": []
    }
  ]
}